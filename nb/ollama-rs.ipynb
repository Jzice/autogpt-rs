{
 "cells": [
  {
   "cell_type": "code",
   "execution_count": 2,
   "metadata": {},
   "outputs": [],
   "source": [
    ":dep ollama-rs = { version = \"0.1.9\" }"
   ]
  },
  {
   "cell_type": "code",
   "execution_count": 8,
   "metadata": {},
   "outputs": [],
   "source": [
    "use ollama_rs::{\n",
    "    generation::{\n",
    "        images::Image,\n",
    "        completion::request::GenerationRequest, \n",
    "        options::GenerationOptions\n",
    "    },\n",
    "    Ollama,\n",
    "};\n",
    "use std::env::var;"
   ]
  },
  {
   "cell_type": "code",
   "execution_count": 12,
   "metadata": {},
   "outputs": [
    {
     "name": "stdout",
     "output_type": "stream",
     "text": [
      "[ok] \"Here's a poem about taking time off to relax:\\n\\n**沉默之日**\\n\\n我需要一些时间，静谧无声\\n让心灵恢复自然的情感流程\\n不再是工作、责任和压力下的奴隶\\n只是一具疲惫的身体，在休息中找回自由\\n\\n在这个世界上，我总是在跑步前进\\n从来没有停下脚步，享受生命中的每一刻欢乐\\n但现在我需要放松一下，让自己沉默下来\\n感受到自然界给我的温暖和爱抚\\n\\n当太阳照耀着大地，当星空绽放在天上\\n让我感到自由、轻鬆的感觉，如同鸟儿飞翔一般\\n在这个时候，我不再是工作中的我了\\n只是一具疲惫的人，享受生命中最美好的时刻\\n\\n**Translation:**\\n\\n**Days of Silence**\\n\\nI need some time, quiet and stillness,\\nLet my heart recover its natural flow.\\nNo longer a slave to work, responsibility, or pressure's weight;\\nJust an exhausted body finding freedom in rest.\\n\\nIn this world above me I've always been on the move\\nNever stopping for even one moment to enjoy life with glee. But now it seems that what i need is some relaxation,\\nLet myself be silent and feel nature's warmth\\n\\nWhen sunshine illuminates the earth, when starlight spreads across heaven.\\nI'll let go of my worries like a bird taking flight;\\nIn this instant I am no longer me at work\\nJust an exhausted person enjoying life to its fullest.\\n\\nPlease note that poetry is subjective in translation. This poem aims to convey feelings and emotions rather than conveying specific meanings or messages, so the tone may vary slightly depending on how you read it! 😊\"\n"
     ]
    }
   ],
   "source": [
    "let ollama = Ollama::default();\n",
    "\n",
    "let model = var(\"LLAMA_MODEL\")\n",
    "    .unwrap_or(\"llama3:latest\".to_string())\n",
    "    .to_owned();\n",
    "\n",
    "let options = GenerationOptions::default()\n",
    "    .temperature(0.2)\n",
    "    .repeat_penalty(1.5)\n",
    "    .top_k(25)\n",
    "    .top_p(0.25);\n",
    "\n",
    "let prompt = \"请用中文写一首关于放假调休的诗\".to_string();\n",
    "\n",
    "match ollama.generate(\n",
    "    GenerationRequest::new(model, prompt).options(options)\n",
    ").await {\n",
    "    Ok(response) => {\n",
    "        println!(\"[ok] {:?}\", response.response);\n",
    "    }\n",
    "    Err(_err) => {\n",
    "        println!(\"[err] {:?}\", _err);\n",
    "    }\n",
    "};\n",
    "\n"
   ]
  }
 ],
 "metadata": {
  "kernelspec": {
   "display_name": "Rust",
   "language": "rust",
   "name": "rust"
  },
  "language_info": {
   "codemirror_mode": "rust",
   "file_extension": ".rs",
   "mimetype": "text/rust",
   "name": "rust",
   "pygment_lexer": "rust",
   "version": ""
  },
  "orig_nbformat": 4
 },
 "nbformat": 4,
 "nbformat_minor": 2
}
